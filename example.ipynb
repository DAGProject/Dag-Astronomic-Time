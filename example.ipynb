{
 "cells": [
  {
   "cell_type": "code",
   "execution_count": 2,
   "metadata": {},
   "outputs": [],
   "source": [
    "#Import\n",
    "from astcalc import time"
   ]
  },
  {
   "cell_type": "code",
   "execution_count": 3,
   "metadata": {},
   "outputs": [],
   "source": [
    "#Create object\n",
    "#astime = time.astronomic(verb=False, , lat='41.2333', lon='39.7833',ele='3170', date=None, t_at_date=False, oname='DAG')\n",
    "astime = time.astronomic(verb=False)"
   ]
  },
  {
   "cell_type": "code",
   "execution_count": 4,
   "metadata": {},
   "outputs": [
    {
     "name": "stdout",
     "output_type": "stream",
     "text": [
      "DUSK Twilights:\n",
      "Next DUSK Twilight Start time is: 2020-04-07 16:54:25.193651\n",
      "Next DUSK Twilight End time is: 2020-04-07 17:29:25.655652\n",
      "Previous DUSK Twilight Start time is: 2020-04-06 16:53:11.835737\n",
      "Previous DUSK Twilight End time is: 2020-04-06 17:28:03.199973\n",
      "\n",
      "DAWN Twilights:\n",
      "Next DAWN Twilight Start time is: 2020-04-08 01:50:33.822156\n",
      "Next DAWN Twilight End time is: 2020-04-08 01:15:34.747307\n",
      "Previous DAWN Twilight Start time is: 2020-04-07 01:52:20.594139\n",
      "Previous DAWN Twilight End time is: 2020-04-07 01:17:30.659291\n",
      "\n",
      "Moon set and rise:\n",
      "Next Moon Rise time is: 2020-04-07 18:05:30\n",
      "Next Moon Set time is: 2020-04-08 06:20:13\n",
      "Previous Moon Rise time is: 2020-04-06 16:48:00\n",
      "Previous Moon Set time is: 2020-04-07 02:49:03.203774\n",
      "\n",
      "Sunset and Sunrise\n",
      "Next Sunrise time is: 2020-04-08 05:51:59\n",
      "Next Sunset time is: 2020-04-07 18:52:55\n",
      "Previous Sunrise time is: 2020-04-07 05:53:37\n",
      "Previous Sunset time is: 2020-04-06 18:51:51\n"
     ]
    }
   ],
   "source": [
    "print(\"DUSK Twilights:\")\n",
    "print(\"Next DUSK Twilight Start time is: {}\".format(\n",
    "        astime.n_dusk_twilight_start()))\n",
    "print(\"Next DUSK Twilight End time is: {}\".format(\n",
    "        astime.n_dusk_twilight_end()))\n",
    "print(\"Previous DUSK Twilight Start time is: {}\".format(\n",
    "        astime.p_dusk_twilight_start()))\n",
    "print(\"Previous DUSK Twilight End time is: {}\".format(\n",
    "        astime.p_dusk_twilight_end()))\n",
    "print(\"\")\n",
    "print(\"DAWN Twilights:\")\n",
    "print(\"Next DAWN Twilight Start time is: {}\".format(\n",
    "        astime.n_dawn_twilight_start()))\n",
    "print(\"Next DAWN Twilight End time is: {}\".format(\n",
    "        astime.n_dawn_twilight_end()))\n",
    "print(\"Previous DAWN Twilight Start time is: {}\".format(\n",
    "        astime.p_dawn_twilight_start()))\n",
    "print(\"Previous DAWN Twilight End time is: {}\".format(\n",
    "        astime.p_dawn_twilight_end()))\n",
    "print(\"\")\n",
    "print(\"Moon set and rise:\")\n",
    "print(\"Next Moon Rise time is: {}\".format(astime.m_nrising()))\n",
    "print(\"Next Moon Set time is: {}\".format(astime.m_nsetting()))\n",
    "print(\"Previous Moon Rise time is: {}\".format(astime.m_prising()))\n",
    "print(\"Previous Moon Set time is: {}\".format(astime.m_psetting()))\n",
    "print(\"\")\n",
    "print(\"Sunset and Sunrise\")\n",
    "print(\"Next Sunrise time is: {}\".format(astime.nrising()))\n",
    "print(\"Next Sunset time is: {}\".format(astime.nsetting()))\n",
    "print(\"Previous Sunrise time is: {}\".format(astime.prising()))\n",
    "print(\"Previous Sunset time is: {}\".format(astime.psetting()))"
   ]
  },
  {
   "cell_type": "code",
   "execution_count": null,
   "metadata": {},
   "outputs": [],
   "source": []
  }
 ],
 "metadata": {
  "kernelspec": {
   "display_name": "Python 3",
   "language": "python",
   "name": "python3"
  },
  "language_info": {
   "codemirror_mode": {
    "name": "ipython",
    "version": 3
   },
   "file_extension": ".py",
   "mimetype": "text/x-python",
   "name": "python",
   "nbconvert_exporter": "python",
   "pygments_lexer": "ipython3",
   "version": "3.7.6"
  }
 },
 "nbformat": 4,
 "nbformat_minor": 4
}
